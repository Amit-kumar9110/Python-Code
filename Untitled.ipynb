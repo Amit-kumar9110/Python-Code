{
 "cells": [
  {
   "cell_type": "code",
   "execution_count": null,
   "id": "a408629b-9c05-4b0d-b6a5-b6045a386346",
   "metadata": {},
   "outputs": [],
   "source": [
    "import stramlit as st \n",
    "from lan"
   ]
  }
 ],
 "metadata": {
  "kernelspec": {
   "display_name": "Python 3 (ipykernel)",
   "language": "python",
   "name": "python3"
  },
  "language_info": {
   "codemirror_mode": {
    "name": "ipython",
    "version": 3
   },
   "file_extension": ".py",
   "mimetype": "text/x-python",
   "name": "python",
   "nbconvert_exporter": "python",
   "pygments_lexer": "ipython3",
   "version": "3.12.6"
  }
 },
 "nbformat": 4,
 "nbformat_minor": 5
}
